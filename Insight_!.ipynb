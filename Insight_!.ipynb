{
 "cells": [
  {
   "cell_type": "code",
   "execution_count": 13,
   "metadata": {},
   "outputs": [
    {
     "name": "stdout",
     "output_type": "stream",
     "text": [
      "\n"
     ]
    }
   ],
   "source": [
    "clear ; close all; clc"
   ]
  },
  {
   "cell_type": "code",
   "execution_count": 14,
   "metadata": {},
   "outputs": [
    {
     "name": "stdout",
     "output_type": "stream",
     "text": [
      "\n"
     ]
    }
   ],
   "source": [
    "%sales figs data\n",
    "\n",
    "data = load('C:\\Users\\Jimmy\\Google Drive\\Career\\Job Apps\\Insight_\\Interview\\Case Interview\\sales_figs.txt');\n"
   ]
  },
  {
   "cell_type": "code",
   "execution_count": 15,
   "metadata": {},
   "outputs": [
    {
     "name": "stdout",
     "output_type": "stream",
     "text": [
      "\n",
      "data =\n",
      "\n",
      "   1.0e+03 *\n",
      "\n",
      "    2.0110    0.0010         0         0         0         0         0         0         0         0\n",
      "    2.0110    0.0020         0         0         0         0         0         0         0         0\n",
      "    2.0110    0.0030         0         0         0         0         0         0         0         0\n",
      "    2.0110    0.0040    0.0020         0         0    0.0020         0         0         0         0\n",
      "    2.0120    0.0050    0.0193         0         0    0.0193         0         0         0         0\n",
      "    2.0120    0.0060    0.0297         0         0    0.0297         0         0         0         0\n",
      "    2.0120    0.0070    0.0437         0    0.0030    0.0467         0         0         0         0\n",
      "    2.0120    0.0080    0.0433    0.0037    0.0250    0.0720    0.0060         0         0         0\n",
      "    2.0130    0.0090    0.0488    0.0059    0.0350    0.0897    0.0110         0         0         0\n",
      "    2.0130    0.0100    0.0541    0.0058    0.0330    0.0929    0.0220         0         0         0\n",
      "    2.0130    0.0110    0.0602    0.0082    0.0480    0.1164    0.0350         0         0         0\n",
      "    2.0130    0.0120    0.0723    0.0084    0.0470    0.1277    0.0460         0         0         0\n",
      "    2.0140    0.0130    0.0697    0.0098    0.0570    0.1365    0.0520         0         0         0\n",
      "    2.0140    0.0140    0.0840    0.0123    0.0690    0.1653    0.0680         0         0         0\n",
      "    2.0140    0.0150    0.0978    0.0121    0.0690    0.1789    0.0850         0         0         0\n",
      "    2.0140    0.0160    0.1061    0.0148    0.0840    0.2049    0.1030         0         0         0\n",
      "    2.0150    0.0170    0.1153    0.0157    0.0900    0.2210    0.0960         0         0         0\n",
      "    2.0150    0.0180    0.1424    0.0174    0.0980    0.2578    0.1280         0         0         0\n",
      "    2.0150    0.0190    0.1613    0.0181    0.1030    0.2824    0.1270         0         0         0\n",
      "    2.0150    0.0200    0.1820    0.0236    0.1190    0.3246    0.1720         0         0         0\n",
      "    2.0160    0.0210    0.1833    0.0219    0.1240    0.3292    0.1970         0         0         0\n",
      "    2.0160    0.0220    0.2081    0.0260    0.1460    0.3801    0.2170         0         0         0\n",
      "    2.0160    0.0230    0.2239    0.0296    0.1490    0.4025    0.2350         0         0         0\n",
      "    2.0160    0.0240    0.2375    0.0332    0.1620    0.4327    0.2780         0         0         0\n",
      "    2.0170    0.0250    0.2511    0.0292    0.1620    0.4423    0.2120    0.0004    0.0019    0.0023\n",
      "    2.0170    0.0260    0.2760    0.0339    0.1860    0.4959    0.3360    0.0009    0.0048    0.0057\n",
      "    2.0170    0.0270    0.3039    0.0413    0.2010    0.5462    0.3480    0.0032    0.0163    0.0195\n",
      "    2.0170    0.0280    0.3024    0.0473    0.2280    0.5777    0.4490    0.0050    0.0228    0.0278\n",
      "    2.0180    0.0290    0.3137    0.0477    0.2340    0.5954    0.2530    0.0064    0.0322    0.0386\n",
      "    2.0190    0.0300    0.3456    0.0471    0.2390    0.6317    0.4630    0.0089    0.0446    0.0535\n",
      "    2.0180    0.0310    0.3476    0.0509    0.2480    0.6465    0.4320    0.0110    0.0556    0.0666\n",
      "    2.0180    0.0320    0.3801    0.0490    0.2560    0.6851    0.6260    0.0138    0.0702    0.0840\n",
      "    2.0190    0.0330    0.3756    0.0456    0.2580    0.6792    0.4230    0.0160    0.0822    0.0982\n",
      "\n",
      "\n"
     ]
    }
   ],
   "source": [
    "data"
   ]
  },
  {
   "cell_type": "code",
   "execution_count": 16,
   "metadata": {},
   "outputs": [
    {
     "name": "stdout",
     "output_type": "stream",
     "text": [
      "\n"
     ]
    }
   ],
   "source": [
    "Quarters = data(:,1); \n",
    "t = data(:,2);\n",
    "t=(0.25:0.25:8.25); % renormalizing t in years \n",
    "J= data(:,6);\n",
    "X= data(:,7);\n",
    "O= data(:,10);"
   ]
  },
  {
   "cell_type": "code",
   "execution_count": 17,
   "metadata": {},
   "outputs": [
    {
     "name": "stdout",
     "output_type": "stream",
     "text": [
      "\n",
      "F_J =\n",
      "\n",
      "  function_handle with value:\n",
      "\n",
      "    @(xJ,t)xJ(3)*((xJ(1))^-1)*((xJ(1)+xJ(2))^2)*(1+((xJ(2)/xJ(1)).*exp(-(xJ(1)*t)-(xJ(2)*t)))).^-2.*(exp(-(xJ(1)*t)-(xJ(2)*t)))\n",
      "\n",
      "\n",
      "Local minimum possible.\n",
      "\n",
      "lsqcurvefit stopped because the final change in the sum of squares relative to \n",
      "its initial value is less than the value of the function tolerance.\n",
      "\n",
      "\n",
      "xJ =\n",
      "\n",
      "   1.0e+03 *\n",
      "\n",
      "    0.0000\n",
      "    0.0006\n",
      "    4.8467\n",
      "\n",
      "\n",
      "resnorm =\n",
      "\n",
      "   9.8309e+03\n",
      "\n",
      "\n",
      "exitflag =\n",
      "\n",
      "     3\n",
      "\n",
      "\n",
      "output = \n",
      "\n",
      "  struct with fields:\n",
      "\n",
      "       iterations: 18\n",
      "        funcCount: 87\n",
      "         stepsize: 0.6633\n",
      "     cgiterations: []\n",
      "    firstorderopt: 112.4791\n",
      "        algorithm: 'levenberg-marquardt'\n",
      "          message: '...'\n",
      "\n",
      "\n"
     ]
    }
   ],
   "source": [
    "%Bass model fitting annual sales\n",
    "\n",
    "%for J\n",
    "\n",
    "options = optimset('lsqcurvefit');\n",
    "options.Algorithm = ('levenberg-marquardt');\n",
    "options.MaxIter = 1e9;\n",
    "options.MaxFunEvals=1e9;\n",
    "% options.TolFun=1e-9;\n",
    "options.TolX=1e-60;\n",
    "F_J=@(xJ,t) xJ(3)*((xJ(1))^-1)*((xJ(1)+xJ(2))^2)*(1+((xJ(2)/xJ(1)).*exp(-(xJ(1)*t)-(xJ(2)*t)))).^-2.*(exp(-(xJ(1)*t)-(xJ(2)*t)))      \n",
    "\n",
    "x0_J=[0.03; 0.38; 10000];\n",
    "[xJ,resnorm,~,exitflag,output] = lsqcurvefit(F_J,x0_J,t,J',[],[],options)\n"
   ]
  },
  {
   "cell_type": "code",
   "execution_count": 18,
   "metadata": {},
   "outputs": [
    {
     "name": "stdout",
     "output_type": "stream",
     "text": [
      "Current plot released\n",
      "\n"
     ]
    },
    {
     "data": {
      "image/png": "[encoded data removed]",
      "text/plain": [
       "<IPython.core.display.Image object>"
      ]
     },
     "metadata": {},
     "output_type": "display_data"
    }
   ],
   "source": [
    "plot(t,J,'ro')\n",
    "hold on\n",
    "plot(t,F_J(xJ,t),'r')\n",
    "hold"
   ]
  },
  {
   "cell_type": "code",
   "execution_count": 19,
   "metadata": {},
   "outputs": [
    {
     "name": "stdout",
     "output_type": "stream",
     "text": [
      "\n",
      "F_X =\n",
      "\n",
      "  function_handle with value:\n",
      "\n",
      "    @(xX,t)xX(3)*((xX(1))^-1)*((xX(1)+xX(2))^2)*(1+((xX(2)/xX(1)).*exp(-(xX(1)*t)-(xX(2)*t)))).^-2.*(exp(-(xX(1)*t)-(xX(2)*t)))\n",
      "\n",
      "\n",
      "Local minimum possible.\n",
      "\n",
      "lsqcurvefit stopped because the final change in the sum of squares relative to \n",
      "its initial value is less than the value of the function tolerance.\n",
      "\n",
      "\n",
      "xX =\n",
      "\n",
      "   1.0e+03 *\n",
      "\n",
      "    0.0000\n",
      "    0.0005\n",
      "    9.8103\n",
      "\n",
      "\n",
      "resnorm =\n",
      "\n",
      "   8.0151e+04\n",
      "\n",
      "\n",
      "exitflag =\n",
      "\n",
      "     3\n",
      "\n",
      "\n",
      "output = \n",
      "\n",
      "  struct with fields:\n",
      "\n",
      "       iterations: 12\n",
      "        funcCount: 65\n",
      "         stepsize: 4.8085e-04\n",
      "     cgiterations: []\n",
      "    firstorderopt: 2.4700e+03\n",
      "        algorithm: 'levenberg-marquardt'\n",
      "          message: '...'\n",
      "\n",
      "\n"
     ]
    },
    {
     "data": {
      "image/png": "[encoded data removed]",
      "text/plain": [
       "<IPython.core.display.Image object>"
      ]
     },
     "metadata": {},
     "output_type": "display_data"
    }
   ],
   "source": [
    "%for X\n",
    "\n",
    "F_X=@(xX,t) xX(3)*((xX(1))^-1)*((xX(1)+xX(2))^2)*(1+((xX(2)/xX(1)).*exp(-(xX(1)*t)-(xX(2)*t)))).^-2.*(exp(-(xX(1)*t)-(xX(2)*t)))      \n",
    "\n",
    "x0_X=[0.03; 0.38; 100000];\n",
    "[xX,resnorm,~,exitflag,output] = lsqcurvefit(F_X,x0_X,t,X',[],[],options)\n",
    "\n",
    "\n",
    "plot(t,X,'ko')\n",
    "hold on\n",
    "plot(t,F_X(xX,t),'k')\n"
   ]
  },
  {
   "cell_type": "code",
   "execution_count": 20,
   "metadata": {},
   "outputs": [
    {
     "name": "stdout",
     "output_type": "stream",
     "text": [
      "\n",
      "F_O =\n",
      "\n",
      "  function_handle with value:\n",
      "\n",
      "    @(xO,t)xO(3)*((xO(1))^-1)*((xO(1)+xO(2))^2)*(1+((xO(2)/xO(1)).*exp(-(xO(1)*t)-(xO(2)*t)))).^-2.*(exp(-(xO(1)*t)-(xO(2)*t)))\n",
      "\n",
      "\n",
      "Local minimum possible.\n",
      "\n",
      "lsqcurvefit stopped because the final change in the sum of squares relative to \n",
      "its initial value is less than the value of the function tolerance.\n",
      "\n",
      "\n",
      "xO =\n",
      "\n",
      "   1.0e+03 *\n",
      "\n",
      "    0.0000\n",
      "    0.0012\n",
      "    3.3995\n",
      "\n",
      "\n",
      "resnorm =\n",
      "\n",
      "  491.4671\n",
      "\n",
      "\n",
      "exitflag =\n",
      "\n",
      "     3\n",
      "\n",
      "\n",
      "output = \n",
      "\n",
      "  struct with fields:\n",
      "\n",
      "       iterations: 60\n",
      "        funcCount: 280\n",
      "         stepsize: 4.7819e-04\n",
      "     cgiterations: []\n",
      "    firstorderopt: 8.6288e+03\n",
      "        algorithm: 'levenberg-marquardt'\n",
      "          message: '...'\n",
      "\n",
      "\n"
     ]
    },
    {
     "data": {
      "image/png": "[encoded data removed]",
      "text/plain": [
       "<IPython.core.display.Image object>"
      ]
     },
     "metadata": {},
     "output_type": "display_data"
    }
   ],
   "source": [
    "%for O\n",
    "\n",
    "F_O=@(xO,t) xO(3)*((xO(1))^-1)*((xO(1)+xO(2))^2)*(1+((xO(2)/xO(1)).*exp(-(xO(1)*t)-(xO(2)*t)))).^-2.*(exp(-(xO(1)*t)-(xO(2)*t)))      \n",
    "\n",
    "\n",
    "\n",
    "x0_O=[0.03; 0.38; 100000];\n",
    "[xO,resnorm,~,exitflag,output] = lsqcurvefit(F_O,x0_O,t,O',[],[],options)\n",
    "\n",
    "\n",
    "plot(t,O,'bo')\n",
    "hold on\n",
    "plot(t,F_O(xO,t),'b')"
   ]
  },
  {
   "cell_type": "code",
   "execution_count": 21,
   "metadata": {},
   "outputs": [
    {
     "name": "stdout",
     "output_type": "stream",
     "text": [
      "\n"
     ]
    }
   ],
   "source": [
    "%plotting the Bass function sym, in extended t\n",
    "\n",
    "t=(0.25:0.25:18.25); % renormalizing t in years \n",
    "\n",
    "F_J=xJ(3)*((xJ(1))^-1)*((xJ(1)+xJ(2))^2)*(1+((xJ(2)/xJ(1)).*exp(-(xJ(1)*t)-(xJ(2)*t)))).^-2.*(exp(-(xJ(1)*t)-(xJ(2)*t)));      \n",
    "\n",
    "F_X=xX(3)*((xX(1))^-1)*((xX(1)+xX(2))^2)*(1+((xX(2)/xX(1)).*exp(-(xX(1)*t)-(xX(2)*t)))).^-2.*(exp(-(xX(1)*t)-(xX(2)*t)));  \n",
    "\n",
    "F_O=xO(3)*((xO(1))^-1)*((xO(1)+xO(2))^2)*(1+((xO(2)/xO(1)).*exp(-(xO(1)*t)-(xO(2)*t)))).^-2.*(exp(-(xO(1)*t)-(xO(2)*t)));      \n"
   ]
  },
  {
   "cell_type": "code",
   "execution_count": 23,
   "metadata": {},
   "outputs": [
    {
     "name": "stdout",
     "output_type": "stream",
     "text": [
      "Current plot held\n",
      "\n"
     ]
    },
    {
     "data": {
      "image/png": "[encoded data removed]",
      "text/plain": [
       "<IPython.core.display.Image object>"
      ]
     },
     "metadata": {},
     "output_type": "display_data"
    }
   ],
   "source": [
    "% G=(-x(1)-x(2))./(x(2)+(x(1).*exp(-(x(1)*t)-(x(2)*t))));\n",
    "\n",
    "plot(t,F_J,'r')\n",
    "hold\n",
    "plot(t,F_X,'k')\n",
    "plot(t,F_O,'b')"
   ]
  },
  {
   "cell_type": "code",
   "execution_count": null,
   "metadata": {},
   "outputs": [],
   "source": []
  },
  {
   "cell_type": "code",
   "execution_count": null,
   "metadata": {},
   "outputs": [],
   "source": []
  }
 ],
 "metadata": {
  "kernelspec": {
   "display_name": "Matlab",
   "language": "matlab",
   "name": "matlab"
  },
  "language_info": {
   "codemirror_mode": "octave",
   "file_extension": ".m",
   "help_links": [
    {
     "text": "MetaKernel Magics",
     "url": "https://metakernel.readthedocs.io/en/latest/source/README.html"
    }
   ],
   "mimetype": "text/x-octave",
   "name": "matlab",
   "version": "0.16.7"
  }
 },
 "nbformat": 4,
 "nbformat_minor": 4
}
